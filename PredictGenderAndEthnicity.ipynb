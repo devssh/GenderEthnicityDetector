{
 "cells": [
  {
   "cell_type": "markdown",
   "metadata": {},
   "source": [
    "# Gender Usernames/Names"
   ]
  },
  {
   "cell_type": "code",
   "execution_count": 1,
   "metadata": {},
   "outputs": [
    {
     "name": "stderr",
     "output_type": "stream",
     "text": [
      "/Users/devashishsood/anaconda3/envs/py36/lib/python3.6/importlib/_bootstrap.py:219: RuntimeWarning: compiletime version 3.5 of module 'tensorflow.python.framework.fast_tensor_util' does not match runtime version 3.6\n",
      "  return f(*args, **kwds)\n"
     ]
    },
    {
     "name": "stdout",
     "output_type": "stream",
     "text": [
      "_________________________________________________________________\n",
      "Layer (type)                 Output Shape              Param #   \n",
      "=================================================================\n",
      "lstm_3 (LSTM)                (None, 20, 512)           1103872   \n",
      "_________________________________________________________________\n",
      "lstm_4 (LSTM)                (None, 512)               2099200   \n",
      "_________________________________________________________________\n",
      "dense_2 (Dense)              (None, 2)                 1026      \n",
      "=================================================================\n",
      "Total params: 3,204,098\n",
      "Trainable params: 3,204,098\n",
      "Non-trainable params: 0\n",
      "_________________________________________________________________\n"
     ]
    }
   ],
   "source": [
    "import numpy as np\n",
    "import pandas as pd\n",
    "# from tqdm import tqdm\n",
    "# tqdm.pandas()\n",
    "np.random.seed(7)\n",
    "\n",
    "import tensorflow as tf\n",
    "load_model = tf.keras.models.load_model\n",
    "adam = tf.keras.optimizers.Adam(lr=1e-3)\n",
    "\n",
    "import string\n",
    "alphabet_list = list(string.ascii_lowercase)\n",
    "max_name_len = 20\n",
    "\n",
    "import re\n",
    "\n",
    "def string_vectorizer(strng, alphabet, max_str_len=20, gender=True):\n",
    "    if(gender):\n",
    "        strng = re.sub(r\"[^a-z]+\", \"\", strng.lower())\n",
    "    else:\n",
    "        strng = re.sub(r\"[^a-zA-z0-9-]+\", \"\", strng)\n",
    "    vector = [[0 if char != letter else 1 for char in alphabet] for letter in strng[0:max_str_len]]\n",
    "    while len(vector) != max_str_len:\n",
    "        vector = [*vector, [0 for char in alphabet]]\n",
    "    return np.array(vector)\n",
    "\n",
    "\n",
    "gendermodel = load_model(\"gendermodel.h5\")\n",
    "gendermodel.load_weights(\"genderweights.h5\")\n",
    "gendermodel.compile(loss='categorical_crossentropy', optimizer=adam, metrics=['accuracy'])\n",
    "# 90% accuracy on 30k female and 33k male names synthesised from Indian names list\n",
    "gendermodel.summary()"
   ]
  },
  {
   "cell_type": "code",
   "execution_count": 2,
   "metadata": {},
   "outputs": [
    {
     "name": "stdout",
     "output_type": "stream",
     "text": [
      "0             RajSood25\n",
      "1           mukta57cute\n",
      "2    burnvipulkumarfire\n",
      "3      priyasubramanium\n",
      "dtype: object\n",
      "array([[male, female]]) probability\n",
      "[[0.71 0.28]\n",
      " [0.11 0.88]\n",
      " [0.99 0.  ]\n",
      " [0.   0.99]]\n"
     ]
    }
   ],
   "source": [
    "names = pd.Series([\"RajSood25\", \"mukta57cute\", \"burnvipulkumarfire\", \"priyasubramanium\"])\n",
    "print(names)\n",
    "names_transform = names.apply(lambda name: string_vectorizer(name, alphabet_list, max_name_len).reshape(1, 20, 26))\n",
    "names_transform = np.vstack(names_transform.tolist())\n",
    "prediction = gendermodel.predict(names_transform)\n",
    "print(\"array([[male, female]]) probability\")\n",
    "prediction = [[int(pred[0]*100)/100, int(pred[1]*100)/100] for pred in prediction]\n",
    "print(np.array(prediction))\n"
   ]
  },
  {
   "cell_type": "markdown",
   "metadata": {},
   "source": [
    "# Ethnicity Usernames"
   ]
  },
  {
   "cell_type": "code",
   "execution_count": 4,
   "metadata": {},
   "outputs": [
    {
     "data": {
      "text/plain": [
       "['-', '0', '1', '2', '3']"
      ]
     },
     "metadata": {},
     "output_type": "display_data"
    },
    {
     "name": "stdout",
     "output_type": "stream",
     "text": [
      "_________________________________________________________________\n",
      "Layer (type)                 Output Shape              Param #   \n",
      "=================================================================\n",
      "lstm_5 (LSTM)                (None, 20, 512)           1179648   \n",
      "_________________________________________________________________\n",
      "lstm_6 (LSTM)                (None, 512)               2099200   \n",
      "_________________________________________________________________\n",
      "dense_3 (Dense)              (None, 2)                 1026      \n",
      "=================================================================\n",
      "Total params: 3,279,874\n",
      "Trainable params: 3,279,874\n",
      "Non-trainable params: 0\n",
      "_________________________________________________________________\n"
     ]
    }
   ],
   "source": [
    "\n",
    "alphabet_listset = pd.read_csv(\"ethnicity_listset.csv\")[\"characters\"].tolist()\n",
    "print(alphabet_listset[0:5])\n",
    "ethnicitymodel = load_model(\"eth_model.h5\")\n",
    "\n",
    "ethnicitymodel.load_weights(\"eth_weights.h5\")\n",
    "ethnicitymodel.compile(loss='categorical_crossentropy', optimizer=adam, metrics=['accuracy'])\n",
    "# 88% accuracy on Indian vs non indian usernames\n",
    "ethnicitymodel.summary()"
   ]
  },
  {
   "cell_type": "code",
   "execution_count": 5,
   "metadata": {},
   "outputs": [
    {
     "name": "stdout",
     "output_type": "stream",
     "text": [
      "0        RajkumarSood\n",
      "1             mukta57\n",
      "2           johnsmith\n",
      "3         KeanuReeves\n",
      "4               Elias\n",
      "5    priyasubramanium\n",
      "6           Devashish\n",
      "dtype: object\n",
      "array([[other, indian ethnicity]]) probability\n",
      "[[0.09 0.9 ]\n",
      " [0.33 0.66]\n",
      " [0.81 0.18]\n",
      " [0.88 0.11]\n",
      " [0.96 0.03]\n",
      " [0.05 0.94]\n",
      " [0.07 0.92]]\n"
     ]
    }
   ],
   "source": [
    "names = pd.Series([\"RajkumarSood\", \"mukta57\", \"johnsmith\", \"KeanuReeves\", \"Elias\", \"priyasubramanium\", \"Devashish\"])\n",
    "print(names)\n",
    "names_transform = names.apply(lambda name: string_vectorizer(name, alphabet_listset, max_name_len, False).reshape(1, 20, 63))\n",
    "names_transform = np.vstack(names_transform.tolist())\n",
    "prediction = ethnicitymodel.predict(names_transform)\n",
    "print(\"array([[other, indian ethnicity]]) probability\")\n",
    "prediction = [[int(pred[0]*100)/100, int(pred[1]*100)/100] for pred in prediction]\n",
    "print(np.array(prediction))\n"
   ]
  },
  {
   "cell_type": "code",
   "execution_count": null,
   "metadata": {},
   "outputs": [],
   "source": [
    "# Star this repo to add to your favorite repos or fork the code!"
   ]
  }
 ],
 "metadata": {
  "kernelspec": {
   "display_name": "Python 3",
   "language": "python",
   "name": "python3"
  },
  "language_info": {
   "codemirror_mode": {
    "name": "ipython",
    "version": 3
   },
   "file_extension": ".py",
   "mimetype": "text/x-python",
   "name": "python",
   "nbconvert_exporter": "python",
   "pygments_lexer": "ipython3",
   "version": "3.6.4"
  }
 },
 "nbformat": 4,
 "nbformat_minor": 2
}
